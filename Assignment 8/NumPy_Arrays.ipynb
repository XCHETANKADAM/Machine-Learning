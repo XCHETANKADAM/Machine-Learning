{
 "cells": [
  {
   "cell_type": "code",
   "execution_count": 2,
   "id": "83fc40cd",
   "metadata": {},
   "outputs": [],
   "source": [
    "# Import NumPy Library\n",
    "import numpy as np"
   ]
  },
  {
   "cell_type": "code",
   "execution_count": 3,
   "id": "18c03645",
   "metadata": {},
   "outputs": [],
   "source": [
    " #Array Creation\n",
    " arr1 = np.array([1, 2, 3, 4, 5])\n",
    " arr2 = np.array([[1, 2, 3], [4, 5, 6]])\n",
    " zeros = np.zeros((2, 3))\n",
    " ones = np.ones((3, 2))\n",
    " range_arr = np.arange(0, 10, 2)\n",
    " random_arr = np.random.rand(3, 3)"
   ]
  },
  {
   "cell_type": "code",
   "execution_count": 5,
   "id": "d44de3d5",
   "metadata": {},
   "outputs": [
    {
     "name": "stdout",
     "output_type": "stream",
     "text": [
      "(5,)\n",
      "2\n",
      "int64\n",
      "6\n"
     ]
    }
   ],
   "source": [
    "# Array Properties\n",
    "print(arr1.shape)\n",
    "print(arr2.ndim)\n",
    "print(arr1.dtype)\n",
    "print(arr2.size)"
   ]
  },
  {
   "cell_type": "code",
   "execution_count": 6,
   "id": "f988a3b4",
   "metadata": {},
   "outputs": [],
   "source": [
    " #Array Operations\n",
    " sum_arr = arr1 + 5\n",
    " prod_arr = arr1 * 2\n",
    " arr_sum = arr1 + np.array([5, 4, 3, 2, 1])\n",
    " mat_mul = np.dot(arr2, np.array([[1, 2], [3, 4], [5, 6]]))"
   ]
  },
  {
   "cell_type": "code",
   "execution_count": 7,
   "id": "4beb4b06",
   "metadata": {},
   "outputs": [],
   "source": [
    " #Statistical Functions\n",
    " mean_val = np.mean(arr1)\n",
    " median_val = np.median(arr1)\n",
    " std_dev = np.std(arr1)\n",
    " sum_val = np.sum(arr1)"
   ]
  },
  {
   "cell_type": "code",
   "execution_count": 8,
   "id": "3f61ed2a",
   "metadata": {},
   "outputs": [],
   "source": [
    " #Reshaping and Indexing\n",
    " reshaped = arr1.reshape((5, 1))\n",
    " element = arr2[1, 2]\n",
    " slice_arr = arr2[:, 1]"
   ]
  },
  {
   "cell_type": "code",
   "execution_count": 10,
   "id": "9284dcd0",
   "metadata": {},
   "outputs": [],
   "source": [
    "# Saving and Loading Arrays\n",
    "np.save('array_data.npy', arr2)\n",
    "loaded_arr = np.load('array_data.npy')"
   ]
  }
 ],
 "metadata": {
  "kernelspec": {
   "display_name": "base",
   "language": "python",
   "name": "python3"
  },
  "language_info": {
   "codemirror_mode": {
    "name": "ipython",
    "version": 3
   },
   "file_extension": ".py",
   "mimetype": "text/x-python",
   "name": "python",
   "nbconvert_exporter": "python",
   "pygments_lexer": "ipython3",
   "version": "3.13.5"
  }
 },
 "nbformat": 4,
 "nbformat_minor": 5
}
